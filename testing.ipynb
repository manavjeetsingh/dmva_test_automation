{
 "cells": [
  {
   "cell_type": "code",
   "execution_count": 9,
   "metadata": {},
   "outputs": [],
   "source": [
    "import os\n",
    "import inspect\n",
    "import json\n",
    "import io"
   ]
  },
  {
   "cell_type": "code",
   "execution_count": 2,
   "metadata": {},
   "outputs": [],
   "source": [
    "def log(s):\n",
    "    print(\"::>\",inspect.stack()[1][3]+':',s)"
   ]
  },
  {
   "cell_type": "code",
   "execution_count": 59,
   "metadata": {},
   "outputs": [],
   "source": [
    "def build_docker(path_to_dockerfile,image_name,image_tag):\n",
    "    command='docker build -t %s:%s %s'%(image_name,image_tag,path_to_dockerfile)\n",
    "    log(command)\n",
    "    os.system(command)"
   ]
  },
  {
   "cell_type": "code",
   "execution_count": 60,
   "metadata": {},
   "outputs": [],
   "source": [
    "def usertag_docker_image(image_name, image_tag, username):\n",
    "    command='docker tag %s:%s %s/%s:%s'%(image_name,image_tag, username, image_name,image_tag)\n",
    "    log(command)\n",
    "    os.system(command)"
   ]
  },
  {
   "cell_type": "code",
   "execution_count": 61,
   "metadata": {},
   "outputs": [],
   "source": [
    "def push_docker_image(image_name, image_tag, username, password):\n",
    "    command='docker login -u \"%s\" -p \"%s\" docker.io'%(username, password)\n",
    "    log(command)\n",
    "    os.system(command)\n",
    "    command='docker push %s/%s:%s'%(username, image_name,image_tag)\n",
    "    log(command)\n",
    "    os.system(command)"
   ]
  },
  {
   "cell_type": "code",
   "execution_count": 54,
   "metadata": {},
   "outputs": [],
   "source": [
    "def replace_write_file(placeholder, replace_content, path, file_name,new_path):\n",
    "    file = open(path+\"/\"+file_name,mode='r')\n",
    "    file_content = file.read()\n",
    "    file.close()\n",
    "\n",
    "    file_content=file_content.replace(placeholder, replace_content)\n",
    "\n",
    "    new_path=new_path+\"/\"+file_name\n",
    "    file = open(new_path, \"w\")\n",
    "    file.write(file_content)\n",
    "    file.close()"
   ]
  },
  {
   "cell_type": "code",
   "execution_count": 52,
   "metadata": {},
   "outputs": [],
   "source": [
    "def change_docker_k8_configs(k8_configs_dict,docker_username, image_name, image_tag):\n",
    "    for config_type in k8_configs_dict: # dict is like filename.yaml: path, where to put final file\n",
    "        docker_image = 'image: %s/%s:%s'%(docker_username,image_name,image_tag)\n",
    "        log(\"Adding \"+docker_image+\" -> \"+k8_configs_dict[config_type]+\"/\"+config_type)\n",
    "        replace_write_file(\"{{DOCKER}}\", docker_image, './k8_configs_templates',config_type,k8_configs_dict[config_type])"
   ]
  },
  {
   "cell_type": "code",
   "execution_count": 24,
   "metadata": {},
   "outputs": [
    {
     "name": "stdout",
     "output_type": "stream",
     "text": [
      "{\n",
      "    \"docker_image_path\": \"/path/to/dockerfile/folder\",\n",
      "    \"docker_image_name\": \"server_image\",\n",
      "    \"docker_image_tag\": \"0.0.1\"\n",
      "}"
     ]
    }
   ],
   "source": [
    "!cat ./common_server_details.json"
   ]
  },
  {
   "cell_type": "code",
   "execution_count": 3,
   "metadata": {},
   "outputs": [],
   "source": [
    "def read_details():\n",
    "    common_server_details = json.load(open('./common_server_details.json'))\n",
    "    decoder_server_details = json.load(open('./decoder_server_details.json'))\n",
    "    docker_hub_details = json.load(open('./docker_hub_details.json'))\n",
    "    common_k8_details = json.load(open('./common_k8_details.json'))\n",
    "    decoder_k8_details = json.load(open('./decoder_k8_details.json'))\n",
    "\n",
    "    return common_server_details,decoder_server_details,docker_hub_details,common_k8_details,decoder_k8_details"
   ]
  },
  {
   "cell_type": "code",
   "execution_count": 41,
   "metadata": {},
   "outputs": [],
   "source": [
    "def apply_k8_configs(k8_details):\n",
    "    for k8 in k8_details:\n",
    "        config_path=k8_details[k8]+\"/\"+k8\n",
    "        command='kubectl apply -f %s'%(config_path)\n",
    "        log(command)\n",
    "        os.system(command)\n"
   ]
  },
  {
   "cell_type": "code",
   "execution_count": 3,
   "metadata": {},
   "outputs": [
    {
     "name": "stdout",
     "output_type": "stream",
     "text": [
      "NAME                                   READY   STATUS    RESTARTS   AGE   IP           NODE       NOMINATED NODE   READINESS GATES\n",
      "counting-deployment-7bdbfc49f6-26q7g   1/1     Running   0          31m   10.244.2.3   worker02   <none>           <none>\n",
      "decoder-deployment-5856556d9b-2jzd9    1/1     Running   0          31m   10.244.3.4   worker03   <none>           <none>\n",
      "detector-deployment-8545575dbf-vsn7s   1/1     Running   0          31m   10.244.3.3   worker03   <none>           <none>\n",
      "resize-deployment-57d965d6bf-w87wg     1/1     Running   0          31m   10.244.5.3   worker05   <none>           <none>\n"
     ]
    }
   ],
   "source": [
    "!kubectl get pods -o wide"
   ]
  },
  {
   "cell_type": "code",
   "execution_count": 27,
   "metadata": {},
   "outputs": [],
   "source": [
    "def get_decoder_ip():\n",
    "    \"\"\"\n",
    "    TODO: Write this\n",
    "    \"\"\"\n",
    "    ip=None\n",
    "    raw_data=os.popen(\"kubectl get pods -o wide\").read()\n",
    "    buf = io.StringIO(raw_data)\n",
    "    for line in buf.readlines():\n",
    "        if line.split()[0].split(\"-\")[0]=='decoder':\n",
    "            ip=line.split()[5]\n",
    "            log(\"Decoder ip is: \"+ip)\n",
    "            break\n",
    "    if ip!=None:\n",
    "        return ip\n",
    "    else:\n",
    "        raise Exception(\"Cannot find decoder IP, is decoder running?\")\n"
   ]
  },
  {
   "cell_type": "code",
   "execution_count": 28,
   "metadata": {},
   "outputs": [
    {
     "name": "stdout",
     "output_type": "stream",
     "text": [
      "10.244.3.4\n"
     ]
    },
    {
     "data": {
      "text/plain": [
       "'0.0.0.0'"
      ]
     },
     "execution_count": 28,
     "metadata": {},
     "output_type": "execute_result"
    }
   ],
   "source": [
    "get_decoder_ip()"
   ]
  },
  {
   "cell_type": "code",
   "execution_count": null,
   "metadata": {},
   "outputs": [],
   "source": [
    "def make_decoder_listen():\n",
    "    decoder_ip=get_decoder_ip()\n",
    "    command=\"curl \"+decoder_ip+\":5057/add-decode-task/?source=rtmp%3A%2F%2F130.245.127.103%3A1935%2Flive%2Fsample_2\"\n",
    "    log(\"Curling the decoder:\" + command)"
   ]
  },
  {
   "cell_type": "code",
   "execution_count": 6,
   "metadata": {},
   "outputs": [
    {
     "name": "stdout",
     "output_type": "stream",
     "text": [
      "::> build_docker: docker build -t server_something:0.0.2 /root/home\n",
      "::> usertag_docker_image: docker tag server:0.0.1 manavjeet/server:0.0.1\n",
      "::> push_docker_image: docker login -u \"manavjeet\" -p \"password\" docker.io\n",
      "::> push_docker_image: docker push manavjeet/server:0.0.1\n"
     ]
    }
   ],
   "source": [
    "build_docker('/root/home', 'server_something', \"0.0.2\")\n",
    "usertag_docker_image('server','0.0.1','manavjeet')\n",
    "push_docker_image('server','0.0.1','manavjeet','password')"
   ]
  },
  {
   "cell_type": "code",
   "execution_count": 6,
   "metadata": {},
   "outputs": [],
   "source": [
    "common_server_details,decoder_server_details,docker_hub_details,common_k8_details,decoder_k8_details=read_details()"
   ]
  },
  {
   "cell_type": "code",
   "execution_count": 55,
   "metadata": {},
   "outputs": [
    {
     "name": "stdout",
     "output_type": "stream",
     "text": [
      "::> change_docker_k8_configs: Adding image: manavJEET/SERVER:0.1.1 -> ../k8s_configurations/counting_deployment.yaml\n"
     ]
    }
   ],
   "source": [
    "\n",
    "change_docker_k8_configs(k8_details,'manavJEET',\"SERVER\",\"0.1.1\")"
   ]
  },
  {
   "cell_type": "code",
   "execution_count": 42,
   "metadata": {},
   "outputs": [
    {
     "name": "stdout",
     "output_type": "stream",
     "text": [
      "::> apply_k8_configs: kubectl apply -f ../k8_configurations/counting_deployment.yaml\n"
     ]
    }
   ],
   "source": [
    "apply_k8_configs(k8_details)"
   ]
  },
  {
   "cell_type": "code",
   "execution_count": 1,
   "metadata": {},
   "outputs": [],
   "source": [
    "# GLOBAL VARS\n",
    "class vars:\n",
    "    def __init__(self):\n",
    "        self.BUILD_COMMON_IMAGE=False\n",
    "        self.BUILD_DECODER_IMAGE=True\n",
    "        \n",
    "\n",
    "GLOBAL=vars()"
   ]
  },
  {
   "cell_type": "code",
   "execution_count": 2,
   "metadata": {},
   "outputs": [],
   "source": [
    "def main():\n",
    "    common_server_details,decoder_server_details,docker_hub_details,k8_details=read_details()\n",
    "\n",
    "    if GLOBAL.BUILD_COMMON_IMAGE:\n",
    "        #Building and pushing the common docker image\n",
    "        build_docker(common_server_details[\"docker_image_path\"], common_server_details[\"docker_image_name\"]\\\n",
    "            , common_server_details[\"docker_image_tag\"])\n",
    "        usertag_docker_image(common_server_details[\"docker_image_name\"],common_server_details[\"docker_image_tag\"]\\\n",
    "            ,docker_hub_details['uname'])\n",
    "        push_docker_image(common_server_details[\"docker_image_name\"],common_server_details[\"docker_image_tag\"]\\\n",
    "            ,docker_hub_details['uname'],docker_hub_details['passwd'])\n",
    "\n",
    "    if GLOBAL.BUILD_DECODER_IMAGE:\n",
    "        #Building and pushing the common docker image\n",
    "        build_docker(decoder_server_details[\"docker_image_path\"], decoder_server_details[\"docker_image_name\"]\\\n",
    "            , decoder_server_details[\"docker_image_tag\"])\n",
    "        usertag_docker_image(decoder_server_details[\"docker_image_name\"],decoder_server_details[\"docker_image_tag\"]\\\n",
    "            ,docker_hub_details['uname'])\n",
    "        push_docker_image(decoder_server_details[\"docker_image_name\"],decoder_server_details[\"docker_image_tag\"]\\\n",
    "            ,docker_hub_details['uname'],docker_hub_details['passwd'])\n",
    "\n",
    "    # making k8 configs using common server\n",
    "    change_docker_k8_configs(common_k8_details,docker_hub_details['uname'],common_server_details[\"docker_image_name\"]\\\n",
    "        ,common_server_details[\"docker_image_tag\"])\n",
    "\n",
    "    # making k8 config using decoder server\n",
    "    change_docker_k8_configs(decoder_k8_details,docker_hub_details['uname'],decoder_server_details[\"docker_image_name\"]\\\n",
    "        ,decoder_server_details[\"docker_image_tag\"])\n"
   ]
  },
  {
   "cell_type": "code",
   "execution_count": 62,
   "metadata": {},
   "outputs": [
    {
     "name": "stdout",
     "output_type": "stream",
     "text": [
      "::> build_docker: docker build -t server_o:0.0.2 ..\n"
     ]
    }
   ],
   "source": [
    "main()"
   ]
  }
 ],
 "metadata": {
  "kernelspec": {
   "display_name": "Python 3.6.9 64-bit",
   "language": "python",
   "name": "python3"
  },
  "language_info": {
   "codemirror_mode": {
    "name": "ipython",
    "version": 3
   },
   "file_extension": ".py",
   "mimetype": "text/x-python",
   "name": "python",
   "nbconvert_exporter": "python",
   "pygments_lexer": "ipython3",
   "version": "3.6.9"
  },
  "orig_nbformat": 4,
  "vscode": {
   "interpreter": {
    "hash": "31f2aee4e71d21fbe5cf8b01ff0e069b9275f58929596ceb00d14d90e3e16cd6"
   }
  }
 },
 "nbformat": 4,
 "nbformat_minor": 2
}
