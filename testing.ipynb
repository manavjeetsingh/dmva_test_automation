{
 "cells": [
  {
   "cell_type": "code",
   "execution_count": 8,
   "metadata": {},
   "outputs": [],
   "source": [
    "import os\n",
    "import inspect"
   ]
  },
  {
   "cell_type": "code",
   "execution_count": 23,
   "metadata": {},
   "outputs": [],
   "source": [
    "def log(s):\n",
    "    print(inspect.stack()[1][3]+':',s)"
   ]
  },
  {
   "cell_type": "code",
   "execution_count": 24,
   "metadata": {},
   "outputs": [],
   "source": [
    "def build_docker(path_to_dockerfile,image_name,image_tag):\n",
    "    command='docker build -t %s:%s %s'%(image_name,image_tag,path_to_dockerfile)\n",
    "    log(command)\n",
    "    # os.system(command)"
   ]
  },
  {
   "cell_type": "code",
   "execution_count": 26,
   "metadata": {},
   "outputs": [],
   "source": [
    "def usertag_docker_image(image_name, image_tag, username):\n",
    "    command='docker tag %s:%s %s/%s:%s'%(image_name,image_tag, username, image_name,image_tag)\n",
    "    log(command)\n",
    "    # os.system(command)"
   ]
  },
  {
   "cell_type": "code",
   "execution_count": 31,
   "metadata": {},
   "outputs": [],
   "source": [
    "def push_docker_image(image_name, image_tag, username, password):\n",
    "    command='docker login -u \"%s\" -p \"%s\" docker.io'%(username, password)\n",
    "    log(command)\n",
    "    # os.system(command)\n",
    "    command='docker push %s/%s:%s'%(username, image_name,image_tag)\n",
    "    log(command)\n",
    "    # os.system(command)"
   ]
  },
  {
   "cell_type": "code",
   "execution_count": 32,
   "metadata": {},
   "outputs": [
    {
     "name": "stdout",
     "output_type": "stream",
     "text": [
      "build_docker: docker build -t server_something:0.0.2 /root/home\n",
      "usertag_docker_image: docker tag server:0.0.1 manavjeet/server:0.0.1\n",
      "push_docker_image: docker login -u \"manavjeet\" -p \"password\" docker.io\n",
      "push_docker_image: docker push manavjeet/server:0.0.1\n"
     ]
    }
   ],
   "source": [
    "build_docker('/root/home', 'server_something', \"0.0.2\")\n",
    "usertag_docker_image('server','0.0.1','manavjeet')\n",
    "push_docker_image('server','0.0.1','manavjeet','password')"
   ]
  },
  {
   "cell_type": "code",
   "execution_count": null,
   "metadata": {},
   "outputs": [],
   "source": []
  }
 ],
 "metadata": {
  "kernelspec": {
   "display_name": "Python 3.6.9 64-bit",
   "language": "python",
   "name": "python3"
  },
  "language_info": {
   "codemirror_mode": {
    "name": "ipython",
    "version": 3
   },
   "file_extension": ".py",
   "mimetype": "text/x-python",
   "name": "python",
   "nbconvert_exporter": "python",
   "pygments_lexer": "ipython3",
   "version": "3.6.9"
  },
  "orig_nbformat": 4,
  "vscode": {
   "interpreter": {
    "hash": "31f2aee4e71d21fbe5cf8b01ff0e069b9275f58929596ceb00d14d90e3e16cd6"
   }
  }
 },
 "nbformat": 4,
 "nbformat_minor": 2
}
