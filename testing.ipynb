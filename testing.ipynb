{
 "cells": [
  {
   "cell_type": "code",
   "execution_count": 18,
   "metadata": {},
   "outputs": [],
   "source": [
    "import os\n",
    "import inspect\n",
    "import json"
   ]
  },
  {
   "cell_type": "code",
   "execution_count": 2,
   "metadata": {},
   "outputs": [],
   "source": [
    "def log(s):\n",
    "    print(\"::>\",inspect.stack()[1][3]+':',s)"
   ]
  },
  {
   "cell_type": "code",
   "execution_count": 3,
   "metadata": {},
   "outputs": [],
   "source": [
    "def build_docker(path_to_dockerfile,image_name,image_tag):\n",
    "    command='docker build -t %s:%s %s'%(image_name,image_tag,path_to_dockerfile)\n",
    "    log(command)\n",
    "    # os.system(command)"
   ]
  },
  {
   "cell_type": "code",
   "execution_count": 4,
   "metadata": {},
   "outputs": [],
   "source": [
    "def usertag_docker_image(image_name, image_tag, username):\n",
    "    command='docker tag %s:%s %s/%s:%s'%(image_name,image_tag, username, image_name,image_tag)\n",
    "    log(command)\n",
    "    # os.system(command)"
   ]
  },
  {
   "cell_type": "code",
   "execution_count": 5,
   "metadata": {},
   "outputs": [],
   "source": [
    "def push_docker_image(image_name, image_tag, username, password):\n",
    "    command='docker login -u \"%s\" -p \"%s\" docker.io'%(username, password)\n",
    "    log(command)\n",
    "    # os.system(command)\n",
    "    command='docker push %s/%s:%s'%(username, image_name,image_tag)\n",
    "    log(command)\n",
    "    # os.system(command)"
   ]
  },
  {
   "cell_type": "code",
   "execution_count": 16,
   "metadata": {},
   "outputs": [],
   "source": [
    "def replace_write_file(placeholder, replace_content, path, file_name,new_path):\n",
    "    file = open(path+\"/\"+file_name,mode='r')\n",
    "    file_content = file.read()\n",
    "    file.close()\n",
    "\n",
    "    file_content=file_content.replace(placeholder, replace_content)\n",
    "\n",
    "    file = open(new_path+\"/\"+file_name, \"a\")\n",
    "    file.write(file_content)\n",
    "    file.close()"
   ]
  },
  {
   "cell_type": "code",
   "execution_count": 10,
   "metadata": {},
   "outputs": [],
   "source": [
    "def change_docker_k8_configs(k8_configs_dict,docker_username, image_name, image_tag):\n",
    "    for config_type in k8_configs_dict: # dict is like filename.yaml: path, where to put final file\n",
    "        docker_image = 'image: %s/%s:%s'%(docker_username,image_name,image_tag)\n",
    "        log(\"Adding \"+docker_image+\" -> \"+config_type)\n",
    "        replace_write_file(\"{{DOCKER}}\", docker_image, './k8_configs',config_type,k8_configs_dict[config_type])"
   ]
  },
  {
   "cell_type": "code",
   "execution_count": null,
   "metadata": {},
   "outputs": [],
   "source": [
    "def read_details():\n",
    "    common_server_details = json.load(open('./common_server_details.json'))\n",
    "    decoder_server_details = json.load(open('./decoder_server_details.json'))\n",
    "    docker_hub_details = json.load(open('./decoder_server_details.json'))"
   ]
  },
  {
   "cell_type": "code",
   "execution_count": 6,
   "metadata": {},
   "outputs": [
    {
     "name": "stdout",
     "output_type": "stream",
     "text": [
      "::> build_docker: docker build -t server_something:0.0.2 /root/home\n",
      "::> usertag_docker_image: docker tag server:0.0.1 manavjeet/server:0.0.1\n",
      "::> push_docker_image: docker login -u \"manavjeet\" -p \"password\" docker.io\n",
      "::> push_docker_image: docker push manavjeet/server:0.0.1\n"
     ]
    }
   ],
   "source": [
    "build_docker('/root/home', 'server_something', \"0.0.2\")\n",
    "usertag_docker_image('server','0.0.1','manavjeet')\n",
    "push_docker_image('server','0.0.1','manavjeet','password')"
   ]
  },
  {
   "cell_type": "code",
   "execution_count": 17,
   "metadata": {},
   "outputs": [
    {
     "name": "stdout",
     "output_type": "stream",
     "text": [
      "::> change_docker_k8_configs: Adding image: manavJEET/SERVER:0.1.1 -> counting_deployment.yaml\n"
     ]
    }
   ],
   "source": [
    "file_dict={\n",
    "    \"counting_deployment.yaml\": \".\"\n",
    "}\n",
    "change_docker_k8_configs(file_dict,'manavJEET',\"SERVER\",\"0.1.1\")"
   ]
  },
  {
   "cell_type": "code",
   "execution_count": null,
   "metadata": {},
   "outputs": [],
   "source": []
  }
 ],
 "metadata": {
  "kernelspec": {
   "display_name": "Python 3.6.9 64-bit",
   "language": "python",
   "name": "python3"
  },
  "language_info": {
   "codemirror_mode": {
    "name": "ipython",
    "version": 3
   },
   "file_extension": ".py",
   "mimetype": "text/x-python",
   "name": "python",
   "nbconvert_exporter": "python",
   "pygments_lexer": "ipython3",
   "version": "3.6.9"
  },
  "orig_nbformat": 4,
  "vscode": {
   "interpreter": {
    "hash": "31f2aee4e71d21fbe5cf8b01ff0e069b9275f58929596ceb00d14d90e3e16cd6"
   }
  }
 },
 "nbformat": 4,
 "nbformat_minor": 2
}
